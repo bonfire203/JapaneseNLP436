{
 "cells": [
  {
   "cell_type": "code",
   "execution_count": 4,
   "id": "ad03cae7",
   "metadata": {},
   "outputs": [],
   "source": [
    "#imports\n",
    "from fugashi import Tagger"
   ]
  },
  {
   "cell_type": "code",
   "execution_count": 26,
   "id": "aaff0b35",
   "metadata": {},
   "outputs": [
    {
     "name": "stdout",
     "output_type": "stream",
     "text": [
      "input text: こんにちは。わたしのなまえはブランドンです\n",
      "今日は 。 私 の 名前 は ブランドン-外国 です\n"
     ]
    }
   ],
   "source": [
    "tagger = Tagger('-Owakati')\n",
    "text = input(\"input text: \")\n",
    "output = []\n",
    "#text = \"こんにちは。わたしのなまえはブランドンです。\"\n",
    "tagger.parse(text)\n",
    "# => '麩 菓子 は 、 麩 を 主材 料 と し た 日本 の 菓子 。'\n",
    "for word in tagger(text):\n",
    "    output.append(word.feature.lemma)\n",
    "    #print(word, word.feature.lemma, word.pos, sep='\\t')\n",
    "    #print(word.feature.lemma, sep=' ')\n",
    "    # \"feature\" is the Unidic feature data as a named tuple\n",
    "output = ' '.join(output)\n",
    "print(output)"
   ]
  },
  {
   "cell_type": "code",
   "execution_count": null,
   "id": "50b95213",
   "metadata": {},
   "outputs": [],
   "source": []
  }
 ],
 "metadata": {
  "kernelspec": {
   "display_name": "Python 3 (ipykernel)",
   "language": "python",
   "name": "python3"
  },
  "language_info": {
   "codemirror_mode": {
    "name": "ipython",
    "version": 3
   },
   "file_extension": ".py",
   "mimetype": "text/x-python",
   "name": "python",
   "nbconvert_exporter": "python",
   "pygments_lexer": "ipython3",
   "version": "3.10.9"
  }
 },
 "nbformat": 4,
 "nbformat_minor": 5
}
