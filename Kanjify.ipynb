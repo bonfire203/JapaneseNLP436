{
 "cells": [
  {
   "cell_type": "markdown",
   "id": "d4d0e716",
   "metadata": {},
   "source": [
    "Install dependencies"
   ]
  },
  {
   "cell_type": "code",
   "execution_count": 1,
   "id": "2d313869",
   "metadata": {},
   "outputs": [
    {
     "name": "stdout",
     "output_type": "stream",
     "text": [
      "Requirement already satisfied: fugashi[unidic-lite] in c:\\users\\brand\\anaconda3\\lib\\site-packages (1.2.1)\n",
      "Requirement already satisfied: unidic-lite in c:\\users\\brand\\anaconda3\\lib\\site-packages (from fugashi[unidic-lite]) (1.0.8)\n",
      "Note: you may need to restart the kernel to use updated packages.\n"
     ]
    }
   ],
   "source": [
    "%pip install fugashi[unidic-lite]"
   ]
  },
  {
   "cell_type": "markdown",
   "id": "1bca3a78",
   "metadata": {},
   "source": [
    "Imports"
   ]
  },
  {
   "cell_type": "code",
   "execution_count": 3,
   "id": "4743c446",
   "metadata": {},
   "outputs": [],
   "source": [
    "from fugashi import Tagger\n",
    "import pandas as pd\n",
    "import numpy as np\n",
    "kanji_df = pd.read_json(\"kanji.json\")\n",
    "kanji_df = kanji_df.drop(['strokes'], axis=0)"
   ]
  },
  {
   "cell_type": "markdown",
   "id": "e02303ac",
   "metadata": {},
   "source": [
    "Isolated Function Kanjify"
   ]
  },
  {
   "cell_type": "code",
   "execution_count": 8,
   "id": "b180b704",
   "metadata": {},
   "outputs": [],
   "source": [
    "def kanjify(line):\n",
    "    tagger = Tagger('-Owakati')\n",
    "    arr = []\n",
    "    tagger.parse(line)\n",
    "    for word in tagger(line):\n",
    "        new_word = ''\n",
    "        if word.feature.lemma is None:\n",
    "            new_word += str(word)\n",
    "            continue\n",
    "        for lemma_char in np.arange(len(word.feature.lemma)):\n",
    "            if word.feature.lemma[lemma_char] in kanji_df.columns:\n",
    "                new_word += word.feature.lemma[lemma_char]\n",
    "                continue\n",
    "            if word.feature.lemma[lemma_char] in word.feature.orthBase:\n",
    "                if word.feature.lemma[lemma_char] in word.feature.orth:\n",
    "                    new_word += word.feature.lemma[lemma_char]\n",
    "                    continue\n",
    "            \n",
    "        arr.append(new_word)\n",
    "    arr = ''.join(arr)\n",
    "    print(arr)\n",
    "    return arr"
   ]
  },
  {
   "cell_type": "markdown",
   "id": "4d6bc664",
   "metadata": {},
   "source": [
    "Example Usage"
   ]
  },
  {
   "cell_type": "code",
   "execution_count": 9,
   "id": "3d1799b1",
   "metadata": {},
   "outputs": [
    {
     "name": "stdout",
     "output_type": "stream",
     "text": [
      "金を張た爺生活の始まりだ。\n"
     ]
    },
    {
     "data": {
      "text/plain": [
       "'金を張た爺生活の始まりだ。'"
      ]
     },
     "execution_count": 9,
     "metadata": {},
     "output_type": "execute_result"
    }
   ],
   "source": [
    "y = \"税金を払ったら実生活の始まりだ。\"\n",
    "x = \"ぜいきんをはらたらじっせいかつのはじまりだ。\"\n",
    "kanjify(x)"
   ]
  },
  {
   "cell_type": "markdown",
   "id": "234c76fb",
   "metadata": {},
   "source": [
    "## Manual Eval for Tagger"
   ]
  },
  {
   "cell_type": "code",
   "execution_count": 25,
   "id": "0de7812c",
   "metadata": {},
   "outputs": [
    {
     "name": "stdout",
     "output_type": "stream",
     "text": [
      "最近色有て歌う中から、今日は歌う捲た！\n",
      "最近いろいろあって歌えなかったから、今日は歌いまくった！\n",
      "どう為て俺は彼等にの様歌う事が出来ないだ。\n",
      "どうして俺は彼らのように歌うことが出来ないんだ\n",
      "人は食事を取なば芯で仕舞う\n",
      "人は食事を取らなければ死んでしまう\n",
      "金を張た爺生活の始まりだ。\n",
      "税金を払ったら実生活の始まりだ。\n",
      "もう彼女には言ないよ。そんな単純事では無成て来たからね。\n",
      "もう彼女には言えないよ。そんなに単純なことではなくなってきたからね。\n",
      "御鐘を稼たいアメリカが一番だ\n",
      "お金を稼ぎたいならアメリカが一番だ\n",
      "細心のバイオ技術によて、芋の臭みを最初う現に押さえ、非常飲易い「芋焼酎」です。\n",
      "最新のバイオ技術によって、芋の臭みkを最小限に抑え、非常に飲みやすい「芋焼酎」です。\n",
      "貴方は新しい事を勉強為たいのだと思た。\n",
      "あなたは新しいことを勉強したいのだと思った。\n",
      "の鼠が無かのこく鯥を食べ尽くて行た。\n",
      "野ねずみが農家の穀物を食べ尽くしていった。\n",
      "とある映画を文庫か為た—否、映画の為に掛かたシナリオを為せつと為てか一つ周所為為、日本御に為た物だ。\n",
      "とある映画を文庫化した—いや、映画の為に書かれたシナリオを小説として加筆修正し、日本語にローカライズしたものだ。\n",
      "あの映画はえげつない\n",
      "あの映画はえげつない\n",
      "芯にこっ酷叱れて仕舞ます。\n",
      "両親にこっぴどくしかられてしまいます。\n",
      "ラザニが大好きです\n",
      "ラザニアが大好きです\n",
      "あれ？貴方未だ此処に居たのね！\n",
      "あれ？あなたまだここにいたのね！\n",
      "心配為ない、楽し行！\n",
      "心配しないで、楽しくいこう！\n",
      "瓶子達の為めは其の箸をは買為る事だた\n",
      "兵士たちの使命はその橋を破壊hすることだった\n"
     ]
    }
   ],
   "source": [
    "kanjify(df[\"Kana\"][0])\n",
    "print(df[\"Kanji\"][0])\n",
    "print(\"Number of Correct Matches: 6 vs Number of Incorrect: 4\")\n",
    "kanjify(df[\"Kana\"][1])\n",
    "print(df[\"Kanji\"][1])\n",
    "print(\"Number of Correct Matches: 9 vs Number of Incorrect: 4\")\n",
    "kanjify(df[\"Kana\"][2])\n",
    "print(df[\"Kanji\"][2])\n",
    "print(\"Number of Correct Matches: 7 vs Number of Incorrect: 2\")\n",
    "kanjify(df[\"Kana\"][3])\n",
    "print(df[\"Kanji\"][3])\n",
    "print(\"Number of Correct Matches: 6 vs Number of Incorrect: 2\")\n",
    "kanjify(df[\"Kana\"][4])\n",
    "print(df[\"Kanji\"][4])\n",
    "print(\"Number of Correct Matches: 9 vs Number of Incorrect: 4\")\n",
    "kanjify(df[\"Kana\"][5])\n",
    "print(df[\"Kanji\"][5])\n",
    "print(\"Number of Correct Matches: 5 vs Number of Incorrect: 2\")\n",
    "kanjify(df[\"Kana\"][6])\n",
    "print(df[\"Kanji\"][6])\n",
    "print(\"Number of Correct Matches: 18 vs Number of Incorrect: 7\")\n",
    "kanjify(df[\"Kana\"][7])\n",
    "print(df[\"Kanji\"][7])\n",
    "print(\"Number of Correct Matches: 8 vs Number of Incorrect: 4\")\n",
    "kanjify(df[\"Kana\"][8])\n",
    "print(df[\"Kanji\"][8])\n",
    "print(\"Number of Correct Matches: 4 vs Number of Incorrect: 3\")\n",
    "kanjify(df[\"Kana\"][9])\n",
    "print(df[\"Kanji\"][9])\n",
    "print(\"Number of Correct Matches: 21 vs Number of Incorrect: 11\")\n",
    "kanjify(df[\"Kana\"][10])\n",
    "print(df[\"Kanji\"][10])\n",
    "print(\"Number of Correct Matches: 2 vs Number of Incorrect: 0\")\n",
    "kanjify(df[\"Kana\"][11])\n",
    "print(df[\"Kanji\"][11])\n",
    "#print(\"Number of Correct Matches: 5 vs Number of Incorrect: 0\")\n",
    "kanjify(df[\"Kana\"][12])\n",
    "print(df[\"Kanji\"][12])\n",
    "print(\"Number of Correct Matches: 2 vs Number of Incorrect: 2\")\n",
    "kanjify(df[\"Kana\"][13])\n",
    "print(df[\"Kanji\"][13])\n",
    "print(\"Number of Correct Matches: 6 vs Number of Incorrect: 6\")\n",
    "kanjify(df[\"Kana\"][14])\n",
    "print(df[\"Kanji\"][14])\n",
    "print(\"Number of Correct Matches: 6 vs Number of Incorrect: 2\")\n",
    "kanjify(df[\"Kana\"][15])\n",
    "print(df[\"Kanji\"][15])\n",
    "print(\"Number of Correct Matches: 9 vs Number of Incorrect: 9\")"
   ]
  },
  {
   "cell_type": "code",
   "execution_count": null,
   "id": "19134b78",
   "metadata": {},
   "outputs": [],
   "source": []
  }
 ],
 "metadata": {
  "kernelspec": {
   "display_name": "Python 3 (ipykernel)",
   "language": "python",
   "name": "python3"
  },
  "language_info": {
   "codemirror_mode": {
    "name": "ipython",
    "version": 3
   },
   "file_extension": ".py",
   "mimetype": "text/x-python",
   "name": "python",
   "nbconvert_exporter": "python",
   "pygments_lexer": "ipython3",
   "version": "3.10.9"
  }
 },
 "nbformat": 4,
 "nbformat_minor": 5
}
